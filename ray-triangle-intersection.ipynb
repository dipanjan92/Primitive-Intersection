{
 "cells": [
  {
   "cell_type": "code",
   "execution_count": null,
   "metadata": {
    "collapsed": true,
    "pycharm": {
     "is_executing": true
    }
   },
   "outputs": [],
   "source": [
    "import time\n",
    "import matplotlib.pyplot as plt\n",
    "import numpy as np\n",
    "import numba\n",
    "import pyvista as pv\n",
    "import pywavefront\n",
    "import os\n",
    "from pathlib import Path"
   ]
  },
  {
   "cell_type": "code",
   "execution_count": null,
   "outputs": [],
   "source": [
    "from primitives.triangle import Triangle\n",
    "from scenes.scene import Scene\n",
    "from scenes.render import render_scene\n",
    "from utils.misc import get_floor"
   ],
   "metadata": {
    "collapsed": false,
    "pycharm": {
     "name": "#%%\n",
     "is_executing": true
    }
   }
  },
  {
   "cell_type": "code",
   "execution_count": null,
   "outputs": [],
   "source": [
    "#load object\n",
    "path = Path(\"objects/cube.obj\").resolve()\n",
    "mesh = pv.read(path)\n",
    "mesh.plot()"
   ],
   "metadata": {
    "collapsed": false,
    "pycharm": {
     "name": "#%%\n",
     "is_executing": true
    }
   }
  },
  {
   "cell_type": "code",
   "execution_count": null,
   "outputs": [],
   "source": [
    "mesh = mesh.triangulate()\n",
    "points = np.ascontiguousarray(mesh.points)\n",
    "points"
   ],
   "metadata": {
    "collapsed": false,
    "pycharm": {
     "name": "#%%\n",
     "is_executing": true
    }
   }
  },
  {
   "cell_type": "code",
   "execution_count": null,
   "outputs": [],
   "source": [
    "# new_position = -1 * (points.max(axis=0))\n",
    "# new_position"
   ],
   "metadata": {
    "collapsed": false,
    "pycharm": {
     "name": "#%%\n",
     "is_executing": true
    }
   }
  },
  {
   "cell_type": "code",
   "execution_count": null,
   "outputs": [],
   "source": [
    "# mesh.points -= mesh.center\n",
    "# mesh.points += new_position\n",
    "# mesh.points"
   ],
   "metadata": {
    "collapsed": false,
    "pycharm": {
     "name": "#%%\n",
     "is_executing": true
    }
   }
  },
  {
   "cell_type": "code",
   "execution_count": null,
   "outputs": [],
   "source": [
    "points = np.ascontiguousarray(mesh.points)\n",
    "faces = mesh.faces.reshape((-1,4))[:, 1:4]\n",
    "vertices = np.ascontiguousarray(points[faces], dtype=np.float64)"
   ],
   "metadata": {
    "collapsed": false,
    "pycharm": {
     "name": "#%%\n",
     "is_executing": true
    }
   }
  },
  {
   "cell_type": "code",
   "execution_count": null,
   "outputs": [],
   "source": [
    "triangles = numba.typed.List()\n",
    "# triangles = get_floor(x_depth, y_depth, z_depth)\n",
    "triangles"
   ],
   "metadata": {
    "collapsed": false,
    "pycharm": {
     "name": "#%%\n",
     "is_executing": true
    }
   }
  },
  {
   "cell_type": "code",
   "execution_count": null,
   "outputs": [],
   "source": [
    "\n",
    "for v in vertices:\n",
    "    a,b,c = v[0], v[1], v[2]\n",
    "\n",
    "    triangle = Triangle(vertex_1=np.ascontiguousarray(a, dtype=np.float64),\n",
    "                        vertex_2=np.ascontiguousarray(b, dtype=np.float64),\n",
    "                        vertex_3=np.ascontiguousarray(c, dtype=np.float64)\n",
    "                        )\n",
    "    triangles.append(triangle)\n",
    "\n",
    "len(triangles)"
   ],
   "metadata": {
    "collapsed": false,
    "pycharm": {
     "name": "#%%\n",
     "is_executing": true
    }
   }
  },
  {
   "cell_type": "code",
   "execution_count": null,
   "outputs": [],
   "source": [
    "# Setup scene\n",
    "\n",
    "# point camera\n",
    "look_at = np.array([0, 0, 1], dtype=np.float64)\n",
    "camera = np.array([1, 1, -5], dtype=np.float64)\n",
    "\n",
    "# screen\n",
    "width=300\n",
    "height=300\n",
    "\n",
    "\n",
    "# Initialise the scene with lights and camera\n",
    "scene = Scene(look_at=look_at, camera=camera, width=width, height=height)"
   ],
   "metadata": {
    "collapsed": false,
    "pycharm": {
     "name": "#%%\n",
     "is_executing": true
    }
   }
  },
  {
   "cell_type": "code",
   "execution_count": null,
   "outputs": [],
   "source": [
    "from accelerators.bvh import BoundedBox, build_bvh, LinearBVHNode, flatten_bvh\n",
    "\n",
    "# Enclose all the primitives in their individual axis-aligned bounding boxes (AABB)\n",
    "bounded_boxes = []\n",
    "for i in range(len(triangles)):\n",
    "    bounded_boxes.append(BoundedBox(triangles[i], i))\n",
    "\n",
    "len(triangles), len(bounded_boxes)"
   ],
   "metadata": {
    "collapsed": false,
    "pycharm": {
     "name": "#%%\n",
     "is_executing": true
    }
   }
  },
  {
   "cell_type": "code",
   "execution_count": null,
   "outputs": [],
   "source": [
    "# Initialise a bounding volume hierarchy tree\n",
    "start = 0\n",
    "end = len(bounded_boxes)\n",
    "ordered_prims = []\n",
    "total_nodes = 0\n",
    "root, bounded_boxes, ordered_prims, total_nodes = build_bvh(triangles, bounded_boxes, start, end, ordered_prims, total_nodes)\n",
    "# swap the primitives array with the ordered list\n",
    "primitives = ordered_prims\n",
    "\n",
    "\n",
    "# create a linear representation of the bvh tree\n",
    "linear_nodes = numba.typed.List()\n",
    "for _ in range(total_nodes):\n",
    "    linear_nodes.append(LinearBVHNode())\n",
    "\n",
    "\n",
    "# linear bvh\n",
    "linear_bvh, off_set = flatten_bvh(linear_nodes, root, 0)\n",
    "# len(linear_bvh)\n",
    "\n",
    "# check if indexes of all primitives present in the linear bvh tree\n",
    "total = 0\n",
    "for _bvh in linear_bvh:\n",
    "    total+= _bvh.n_primitives\n",
    "print(total==len(triangles)) # should be equal to the number of primitives\n"
   ],
   "metadata": {
    "collapsed": false,
    "pycharm": {
     "name": "#%%\n",
     "is_executing": true
    }
   }
  },
  {
   "cell_type": "code",
   "execution_count": null,
   "outputs": [],
   "source": [
    "start = time.time()\n",
    "# primitives = spheres, triangles\n",
    "image = render_scene(scene, triangles, linear_bvh)\n",
    "end = time.time()\n",
    "print(\"Elapsed (with compilation) = %s\" % (end - start))"
   ],
   "metadata": {
    "collapsed": false,
    "pycharm": {
     "name": "#%%\n",
     "is_executing": true
    }
   }
  },
  {
   "cell_type": "code",
   "execution_count": null,
   "outputs": [],
   "source": [
    "plt.imshow(image)"
   ],
   "metadata": {
    "collapsed": false,
    "pycharm": {
     "name": "#%%\n",
     "is_executing": true
    }
   }
  },
  {
   "cell_type": "code",
   "execution_count": null,
   "outputs": [],
   "source": [],
   "metadata": {
    "collapsed": false,
    "pycharm": {
     "name": "#%%\n",
     "is_executing": true
    }
   }
  }
 ],
 "metadata": {
  "kernelspec": {
   "display_name": "Python 3",
   "language": "python",
   "name": "python3"
  },
  "language_info": {
   "codemirror_mode": {
    "name": "ipython",
    "version": 2
   },
   "file_extension": ".py",
   "mimetype": "text/x-python",
   "name": "python",
   "nbconvert_exporter": "python",
   "pygments_lexer": "ipython2",
   "version": "2.7.6"
  }
 },
 "nbformat": 4,
 "nbformat_minor": 0
}