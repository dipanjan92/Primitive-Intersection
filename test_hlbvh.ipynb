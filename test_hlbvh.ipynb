{
 "cells": [
  {
   "cell_type": "markdown",
   "source": [
    "# Collision Detection Notebook\n",
    "Implementation of 3D Collision Detection Algorithms"
   ],
   "metadata": {
    "collapsed": false,
    "pycharm": {
     "name": "#%% md\n"
    }
   }
  },
  {
   "cell_type": "markdown",
   "source": [
    "********************************************************************************************"
   ],
   "metadata": {
    "collapsed": false,
    "pycharm": {
     "name": "#%% md\n"
    }
   }
  },
  {
   "cell_type": "code",
   "execution_count": 1,
   "metadata": {
    "pycharm": {
     "name": "#%%\n"
    },
    "ExecuteTime": {
     "end_time": "2023-09-14T20:41:03.265614Z",
     "start_time": "2023-09-14T20:41:02.411913Z"
    }
   },
   "outputs": [],
   "source": [
    "import time\n",
    "from pathlib import Path\n",
    "import matplotlib.pyplot as plt\n",
    "import numpy as np\n",
    "import numba\n",
    "import pyvista as pv"
   ]
  },
  {
   "cell_type": "code",
   "execution_count": 2,
   "outputs": [],
   "source": [
    "from primitives.triangle import Triangle\n",
    "from scenes.scene import Scene\n",
    "from scenes.render import render_scene\n",
    "from utils.misc import get_floor"
   ],
   "metadata": {
    "collapsed": false,
    "pycharm": {
     "name": "#%%\n"
    },
    "ExecuteTime": {
     "end_time": "2023-09-14T20:41:03.330752Z",
     "start_time": "2023-09-14T20:41:03.266182Z"
    }
   }
  },
  {
   "cell_type": "code",
   "execution_count": 3,
   "metadata": {
    "colab": {
     "base_uri": "https://localhost:8080/"
    },
    "id": "xcLdtmlCAeqM",
    "outputId": "405f03fe-4507-46b9-bcee-153db6234648",
    "ExecuteTime": {
     "end_time": "2023-09-14T20:41:03.713310Z",
     "start_time": "2023-09-14T20:41:03.331481Z"
    }
   },
   "outputs": [
    {
     "name": "stderr",
     "output_type": "stream",
     "text": [
      "/Users/dipanjan/anaconda3/envs/Primitive-Intersection/lib/python3.8/site-packages/pyvista/jupyter/notebook.py:58: UserWarning: Failed to use notebook backend: \n",
      "\n",
      "No module named 'trame'\n",
      "\n",
      "Falling back to a static output.\n",
      "  warnings.warn(\n"
     ]
    },
    {
     "data": {
      "text/plain": "<PIL.Image.Image image mode=RGB size=1024x768>",
      "image/png": "[encoded data removed]"
     },
     "metadata": {},
     "output_type": "display_data"
    }
   ],
   "source": [
    "#load object\n",
    "\n",
    "sphere_path = \"objects/sphere.obj\"\n",
    "cylinder_path = \"objects/cylinder.obj\"\n",
    "rabbit = \"objects/rabbit.obj\"\n",
    "carrot = \"objects/carrot.obj\"\n",
    "plane = \"objects/plane.obj\"\n",
    "squirrel = \"objects/squirrel.obj\"\n",
    "tree = \"objects/broad_deciduous_tree_green_leaves.obj\"\n",
    "ant = \"objects/ant.obj\"\n",
    "fireball = \"objects/fireball.obj\"\n",
    "dragon = \"objects/dragon.obj\"\n",
    "crawler = \"objects/crawler.obj\" # warning - large file!!\n",
    "\n",
    "\n",
    "file_path = carrot\n",
    "\n",
    "path = Path(file_path).resolve()\n",
    "mesh = pv.read(path)\n",
    "mesh.plot()\n"
   ]
  },
  {
   "cell_type": "code",
   "execution_count": 4,
   "outputs": [
    {
     "data": {
      "text/plain": "array([[-2.897315, 13.289683,  3.413437],\n       [-2.012119, 13.614882,  2.388781],\n       [-2.604325, 14.434612,  2.676664],\n       ...,\n       [-0.70618 , 14.267506, -0.430716],\n       [-2.714794, 16.596111, -0.506234],\n       [-3.16743 , 15.475259, -1.047851]], dtype=float32)"
     },
     "execution_count": 4,
     "metadata": {},
     "output_type": "execute_result"
    }
   ],
   "source": [
    "mesh = mesh.triangulate()\n",
    "points = np.ascontiguousarray(mesh.points)\n",
    "points"
   ],
   "metadata": {
    "collapsed": false,
    "pycharm": {
     "name": "#%%\n"
    },
    "ExecuteTime": {
     "end_time": "2023-09-14T20:41:03.717219Z",
     "start_time": "2023-09-14T20:41:03.715216Z"
    }
   }
  },
  {
   "cell_type": "code",
   "execution_count": 5,
   "outputs": [],
   "source": [
    "points = np.ascontiguousarray(mesh.points)\n",
    "faces = mesh.faces.reshape((-1,4))[:, 1:4]\n",
    "vertices = np.ascontiguousarray(points[faces], dtype=np.float64)"
   ],
   "metadata": {
    "collapsed": false,
    "pycharm": {
     "name": "#%%\n"
    },
    "ExecuteTime": {
     "end_time": "2023-09-14T20:41:03.720265Z",
     "start_time": "2023-09-14T20:41:03.718813Z"
    }
   }
  },
  {
   "cell_type": "code",
   "execution_count": 6,
   "metadata": {
    "id": "4uUQBifqAn3F",
    "ExecuteTime": {
     "end_time": "2023-09-14T20:41:03.729686Z",
     "start_time": "2023-09-14T20:41:03.720539Z"
    }
   },
   "outputs": [],
   "source": [
    "# Initialise an empty list for primitives\n",
    "objects = numba.typed.List()"
   ]
  },
  {
   "cell_type": "code",
   "execution_count": 7,
   "metadata": {
    "colab": {
     "base_uri": "https://localhost:8080/"
    },
    "id": "46or32ELA_da",
    "outputId": "609c3be4-ce73-46d4-e132-6f6d2ae99a91",
    "ExecuteTime": {
     "end_time": "2023-09-14T20:41:04.658825Z",
     "start_time": "2023-09-14T20:41:03.727772Z"
    }
   },
   "outputs": [
    {
     "data": {
      "text/plain": "152"
     },
     "execution_count": 7,
     "metadata": {},
     "output_type": "execute_result"
    }
   ],
   "source": [
    "# Add the triangles in the list of objects\n",
    "for v in vertices:\n",
    "    a,b,c = v[0], v[1], v[2]\n",
    "\n",
    "    triangle = Triangle(vertex_1=np.ascontiguousarray(a, dtype=np.float64),\n",
    "                                   vertex_2=np.ascontiguousarray(b, dtype=np.float64),\n",
    "                                   vertex_3=np.ascontiguousarray(c, dtype=np.float64))\n",
    "    objects.append(triangle)\n",
    "\n",
    "len(objects)"
   ]
  },
  {
   "cell_type": "code",
   "execution_count": 8,
   "outputs": [
    {
     "data": {
      "text/plain": "([-0.040499210357666016, 8.306123648770154, -0.29418349266052246],\n -9.933327198028564)"
     },
     "execution_count": 8,
     "metadata": {},
     "output_type": "execute_result"
    }
   ],
   "source": [
    "from utils.vectors import normalize\n",
    "\n",
    "# Calculate the bounding box of the point cloud\n",
    "centroid = mesh.center\n",
    "\n",
    "min_p = np.min(vertices)-5\n",
    "\n",
    "centroid, min_p"
   ],
   "metadata": {
    "collapsed": false,
    "pycharm": {
     "name": "#%%\n"
    },
    "ExecuteTime": {
     "end_time": "2023-09-14T20:41:04.662054Z",
     "start_time": "2023-09-14T20:41:04.659687Z"
    }
   }
  },
  {
   "cell_type": "code",
   "execution_count": 9,
   "outputs": [
    {
     "data": {
      "text/plain": "(array([ -0.04049921,   8.30612365, -10.22751069]), array([0., 0., 1.]))"
     },
     "execution_count": 9,
     "metadata": {},
     "output_type": "execute_result"
    }
   ],
   "source": [
    "# Define the camera parameters based on the bounding box\n",
    "camera = centroid + np.array([0.0, 0.0, min_p])  # Position behind the centroid\n",
    "look_at = normalize(centroid - camera)  # Looking towards the centroid\n",
    "camera, look_at"
   ],
   "metadata": {
    "collapsed": false,
    "pycharm": {
     "name": "#%%\n"
    },
    "ExecuteTime": {
     "end_time": "2023-09-14T20:41:04.664572Z",
     "start_time": "2023-09-14T20:41:04.663009Z"
    }
   }
  },
  {
   "cell_type": "code",
   "execution_count": 10,
   "metadata": {
    "id": "aclJFNhOBIaV",
    "ExecuteTime": {
     "end_time": "2023-09-14T20:41:04.860835Z",
     "start_time": "2023-09-14T20:41:04.670826Z"
    }
   },
   "outputs": [],
   "source": [
    "# Setup scene\n",
    "\n",
    "# screen\n",
    "width=300\n",
    "height=300\n",
    "\n",
    "\n",
    "# Initialise the scene with lights and camera\n",
    "scene = Scene(look_at=look_at, camera=camera, width=width, height=height)"
   ]
  },
  {
   "cell_type": "code",
   "execution_count": 11,
   "outputs": [
    {
     "data": {
      "text/plain": "(152, 152)"
     },
     "execution_count": 11,
     "metadata": {},
     "output_type": "execute_result"
    }
   ],
   "source": [
    "from accelerators.bvh import BoundedBox\n",
    "\n",
    "# Enclose all the primitives in their individual axis-aligned bounding boxes (AABB)\n",
    "bounded_boxes = numba.typed.List()\n",
    "for i in range(len(objects)):\n",
    "    bounded_boxes.append(BoundedBox(objects[i], i))\n",
    "\n",
    "len(objects), len(bounded_boxes)"
   ],
   "metadata": {
    "collapsed": false,
    "pycharm": {
     "name": "#%%\n"
    },
    "ExecuteTime": {
     "end_time": "2023-09-14T20:41:05.533704Z",
     "start_time": "2023-09-14T20:41:04.863093Z"
    }
   }
  },
  {
   "cell_type": "code",
   "execution_count": 12,
   "outputs": [
    {
     "name": "stdout",
     "output_type": "stream",
     "text": [
      "Elapsed (with compilation) = 5.5470709800720215\n"
     ]
    }
   ],
   "source": [
    "from accelerators.hlbvh_njit import build_hlbvh\n",
    "from accelerators.bvh import build_bvh\n",
    "\n",
    "# Initialise a bounding volume hierarchy tree\n",
    "start = 0\n",
    "end = len(bounded_boxes)\n",
    "\n",
    "# ordered_prims = numba.typed.List()\n",
    "# ordered_prims.append(objects[0]) # just for numba\n",
    "# ordered_prims.pop(0)\n",
    "\n",
    "ordered_prims = objects\n",
    "\n",
    "total_nodes = numba.typed.List()\n",
    "total_nodes.append(0)\n",
    "\n",
    "split_method = 0 # 0: surface area heuristics, 1: mid-point, 2: equal parts\n",
    "\n",
    "start_t = time.time()\n",
    "# root = build_bvh(objects, bounded_boxes, start, end, ordered_prims, total_nodes, split_method)\n",
    "root = build_hlbvh(objects, bounded_boxes, ordered_prims, total_nodes)\n",
    "\n",
    "\n",
    "end_t = time.time()\n",
    "print(\"Elapsed (with compilation) = %s\" % (end_t - start_t))"
   ],
   "metadata": {
    "collapsed": false,
    "pycharm": {
     "name": "#%%\n"
    },
    "ExecuteTime": {
     "end_time": "2023-09-14T20:41:11.170146Z",
     "start_time": "2023-09-14T20:41:05.534794Z"
    }
   }
  },
  {
   "cell_type": "code",
   "execution_count": 13,
   "outputs": [
    {
     "name": "stdout",
     "output_type": "stream",
     "text": [
      "Elapsed (with compilation) = 0.20981502532958984\n"
     ]
    }
   ],
   "source": [
    "from accelerators.bvh import LinearBVHNode\n",
    "\n",
    "# create a linear representation of the bvh tree (empty)\n",
    "\n",
    "start_t = time.time()\n",
    "linear_bvh = numba.typed.List()\n",
    "for _ in range(total_nodes[0]):\n",
    "    linear_bvh.append(LinearBVHNode())\n",
    "\n",
    "end_t = time.time()\n",
    "print(\"Elapsed (with compilation) = %s\" % (end_t - start_t))"
   ],
   "metadata": {
    "collapsed": false,
    "pycharm": {
     "name": "#%%\n"
    },
    "ExecuteTime": {
     "end_time": "2023-09-14T20:41:11.382779Z",
     "start_time": "2023-09-14T20:41:11.172803Z"
    }
   }
  },
  {
   "cell_type": "code",
   "execution_count": 14,
   "outputs": [
    {
     "data": {
      "text/plain": "(215, 0)"
     },
     "execution_count": 14,
     "metadata": {},
     "output_type": "execute_result"
    }
   ],
   "source": [
    "from accelerators.bvh import flatten_bvh\n",
    "\n",
    "# add nodes to the empty linear tree\n",
    "_offset = flatten_bvh(linear_bvh, root, [0])\n",
    "len(linear_bvh), _offset"
   ],
   "metadata": {
    "collapsed": false,
    "pycharm": {
     "name": "#%%\n"
    },
    "ExecuteTime": {
     "end_time": "2023-09-14T20:41:11.565495Z",
     "start_time": "2023-09-14T20:41:11.386756Z"
    }
   }
  },
  {
   "cell_type": "code",
   "execution_count": 15,
   "metadata": {
    "colab": {
     "base_uri": "https://localhost:8080/",
     "height": 286
    },
    "id": "YvqrADlYBVS0",
    "outputId": "b98c1cbd-ca5b-46a2-90f7-7b14275bc183",
    "ExecuteTime": {
     "end_time": "2023-09-14T20:41:11.567314Z",
     "start_time": "2023-09-14T20:41:11.565803Z"
    }
   },
   "outputs": [],
   "source": [
    "# # ** render function without progress bar **\n",
    "#\n",
    "# from scenes.render import _render_scene\n",
    "#\n",
    "# start_t = time.time()\n",
    "# # primitives = spheres, triangles\n",
    "# image = _render_scene(scene, objects, linear_bvh)\n",
    "# end_t = time.time()\n",
    "# print(\"Elapsed (with compilation) = %s\" % (end_t - start_t))"
   ]
  },
  {
   "cell_type": "code",
   "execution_count": 16,
   "outputs": [
    {
     "data": {
      "text/plain": "  0%|          | 0/300 [00:00<?, ?it/s]",
      "application/vnd.jupyter.widget-view+json": {
       "version_major": 2,
       "version_minor": 0,
       "model_id": "59313c2c3258469985f59b8066c6d3b9"
      }
     },
     "metadata": {},
     "output_type": "display_data"
    },
    {
     "data": {
      "text/plain": "  0%|          | 0/300 [00:00<?, ?it/s]",
      "application/vnd.jupyter.widget-view+json": {
       "version_major": 2,
       "version_minor": 0,
       "model_id": "e734cb327f33411eb7691e90cdcf77f9"
      }
     },
     "metadata": {},
     "output_type": "display_data"
    },
    {
     "name": "stderr",
     "output_type": "stream",
     "text": [
      "/Users/dipanjan/PycharmProjects/Primitive-Intersection/scenes/render.py:27: NumbaPerformanceWarning: np.dot() is faster on contiguous arrays, called on (Array(float64, 1, 'A', False, aligned=True), Array(float64, 1, 'A', False, aligned=True))\n",
      "  nearest_object, min_distance, intersection, surface_normal = hit_object(primitives, bvh, ray)\n",
      "/Users/dipanjan/PycharmProjects/Primitive-Intersection/scenes/render.py:27: NumbaPerformanceWarning: np.dot() is faster on contiguous arrays, called on (Array(float64, 1, 'A', False, aligned=True), Array(float64, 1, 'C', False, aligned=True))\n",
      "  nearest_object, min_distance, intersection, surface_normal = hit_object(primitives, bvh, ray)\n"
     ]
    },
    {
     "name": "stdout",
     "output_type": "stream",
     "text": [
      "Elapsed (with compilation) = 1.757584810256958\n"
     ]
    }
   ],
   "source": [
    "from numba_progress import ProgressBar\n",
    "\n",
    "num_iterations = scene.height\n",
    "\n",
    "start_t = time.time()\n",
    "\n",
    "with ProgressBar(total=num_iterations, ncols=80) as numba_progress1, ProgressBar(total=num_iterations, ncols=80) as numba_progress2:\n",
    "    image = render_scene(scene, objects, linear_bvh, (numba_progress1, numba_progress2))\n",
    "\n",
    "end_t = time.time()\n",
    "print(\"Elapsed (with compilation) = %s\" % (end_t - start_t))"
   ],
   "metadata": {
    "collapsed": false,
    "ExecuteTime": {
     "end_time": "2023-09-14T20:41:13.328178Z",
     "start_time": "2023-09-14T20:41:11.568598Z"
    }
   }
  },
  {
   "cell_type": "code",
   "execution_count": 17,
   "outputs": [
    {
     "data": {
      "text/plain": "<Figure size 640x480 with 1 Axes>",
      "image/png": "[encoded data removed]"
     },
     "metadata": {},
     "output_type": "display_data"
    }
   ],
   "source": [
    "plt.imshow(image)\n",
    "plt.axis('off')\n",
    "plt.show()"
   ],
   "metadata": {
    "collapsed": false,
    "pycharm": {
     "name": "#%%\n"
    },
    "ExecuteTime": {
     "end_time": "2023-09-14T20:41:13.414703Z",
     "start_time": "2023-09-14T20:41:13.332179Z"
    }
   }
  },
  {
   "cell_type": "code",
   "execution_count": 17,
   "outputs": [],
   "source": [],
   "metadata": {
    "collapsed": false,
    "pycharm": {
     "name": "#%%\n"
    },
    "ExecuteTime": {
     "end_time": "2023-09-14T20:41:13.448678Z",
     "start_time": "2023-09-14T20:41:13.413840Z"
    }
   }
  },
  {
   "cell_type": "code",
   "execution_count": 17,
   "outputs": [],
   "source": [],
   "metadata": {
    "collapsed": false,
    "ExecuteTime": {
     "end_time": "2023-09-14T20:41:13.459307Z",
     "start_time": "2023-09-14T20:41:13.441603Z"
    }
   }
  },
  {
   "cell_type": "code",
   "execution_count": 17,
   "outputs": [],
   "source": [],
   "metadata": {
    "collapsed": false,
    "ExecuteTime": {
     "end_time": "2023-09-14T20:41:13.476612Z",
     "start_time": "2023-09-14T20:41:13.455720Z"
    }
   }
  }
 ],
 "metadata": {
  "accelerator": "GPU",
  "colab": {
   "provenance": []
  },
  "kernelspec": {
   "display_name": "Python 3 (ipykernel)",
   "language": "python",
   "name": "python3"
  },
  "language_info": {
   "codemirror_mode": {
    "name": "ipython",
    "version": 3
   },
   "file_extension": ".py",
   "mimetype": "text/x-python",
   "name": "python",
   "nbconvert_exporter": "python",
   "pygments_lexer": "ipython3",
   "version": "3.10.0"
  }
 },
 "nbformat": 4,
 "nbformat_minor": 1
}
